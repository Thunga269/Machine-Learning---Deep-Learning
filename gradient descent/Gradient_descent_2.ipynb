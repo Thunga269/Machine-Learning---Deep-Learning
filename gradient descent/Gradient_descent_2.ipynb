{
  "nbformat": 4,
  "nbformat_minor": 0,
  "metadata": {
    "colab": {
      "provenance": [],
      "collapsed_sections": []
    },
    "kernelspec": {
      "name": "python3",
      "display_name": "Python 3"
    },
    "language_info": {
      "name": "python"
    }
  },
  "cells": [
    {
      "cell_type": "markdown",
      "metadata": {
        "id": "fGNUwsuqj9Q-"
      },
      "source": [
        "###Ham 1 bien"
      ]
    },
    {
      "cell_type": "code",
      "metadata": {
        "colab": {
          "base_uri": "https://localhost:8080/",
          "height": 317
        },
        "id": "rUxL7T-XjT1-",
        "outputId": "098d9916-55a6-4edb-92e2-59989e328ab8"
      },
      "source": [
        "from __future__ import division, print_function, unicode_literals\n",
        "import numpy as np\n",
        "import matplotlib.pyplot as plt\n",
        "import math\n",
        "#x**2 + 5 * sin(x)\n",
        "#tinh dao ham\n",
        "def grad(x):\n",
        "  return 2*x + 5*np.cos(x)\n",
        "#tinh gia tri ham so\n",
        "def cost(x):\n",
        "  return x**2 + 5*np.sin(x)\n",
        "#tìm điểm dừng\n",
        "def myGD1(eta, x0):\n",
        "  x = [x0]\n",
        "  for it in range(100):\n",
        "    x_new = x[-1] - eta * grad(x[-1])\n",
        "    if abs(cost(x_new)) < 1e-3:\n",
        "      break\n",
        "    x.append(x_new)\n",
        "    return (x, it)\n",
        "#diem khoi tao\n",
        "(x1, it1) = myGD1(.1, -5)\n",
        "(x2, it2) = myGD1(.1, 5)\n",
        "print('Solution x1 = %f, cost = %f, obtained after %d iterations'%(x1[-1], cost(x1[-1]), it1))\n",
        "print('Solution x2 = %f, cost = %f, obtained after %d iterations'%(x2[-1], cost(x2[-1]), it2))\n",
        "#x = -5 hội tụ nhanh hơn vì gần với \n",
        "x = np.arange(-6, 6, 0.1)\n",
        "y = grad(x)\n",
        "plt.plot(x, y)"
      ],
      "execution_count": null,
      "outputs": [
        {
          "output_type": "stream",
          "name": "stdout",
          "text": [
            "Solution x1 = -4.141831, cost = 21.362764, obtained after 0 iterations\n",
            "Solution x2 = 3.858169, cost = 11.601433, obtained after 0 iterations\n"
          ]
        },
        {
          "output_type": "execute_result",
          "data": {
            "text/plain": [
              "[<matplotlib.lines.Line2D at 0x7f79995d6e10>]"
            ]
          },
          "metadata": {},
          "execution_count": 9
        },
        {
          "output_type": "display_data",
          "data": {
            "image/png": "[encoded data removed]",
            "text/plain": [
              "<Figure size 432x288 with 1 Axes>"
            ]
          },
          "metadata": {
            "needs_background": "light"
          }
        }
      ]
    },
    {
      "cell_type": "markdown",
      "metadata": {
        "id": "vFlKeqx4kJW4"
      },
      "source": [
        "###Ham nhieu bien"
      ]
    },
    {
      "cell_type": "code",
      "metadata": {
        "colab": {
          "base_uri": "https://localhost:8080/",
          "height": 287
        },
        "id": "myCS_gOqkLdt",
        "outputId": "5cdcc0a2-d359-4020-8eba-ca2f01b44a70"
      },
      "source": [
        "from __future__ import division, print_function, unicode_literals\n",
        "import math\n",
        "import numpy as np\n",
        "import matplotlib.pyplot as plt\n",
        "#tao 1000 diem gan với đường thẳng y = 4 + 3x\n",
        "X = np.random.rand(1000,1) #random.rand: Giá trị ngẫu nhiên trong một hình dạng cho trước.\n",
        "y = 4 + 3*X + .2* np.random.randn(1000,1) #Random.randn: Trả lại một mẫu (hoặc các mẫu) từ phân phối \"chuẩn thông thường\".\n",
        "#xây dựng Xbar\n",
        "one = np.ones((X.shape[0], 1)) #tạo 1 numpy array với các phần tử là 1\n",
        "Xbar = np.concatenate((one, X), axis = 1) #kết hợp 2 hoặc nhiều chuỗi\n",
        "\n",
        "A = np.dot(Xbar.T, Xbar) #.T: ma trận chuyển vị, dot: nhân \n",
        "b = np.dot(Xbar.T, y)\n",
        "w_lr = np.dot(np.linalg.pinv(A), b) #pinv: Tính nghịch đảo của ma trận\n",
        "print('Solution found by formula: w = ',w_lr.T)\n",
        "#hiển thị kết quả\n",
        "w = w_lr\n",
        "w_0 = w[0][0]\n",
        "w_1 = w[1][0]\n",
        "x0 = np.linspace(0, 1, 2, endpoint=True) \n",
        "#np.linspace: Trả về các số cách đều nhau trong một khoảng thời gian xác định.\n",
        "#start = 0, end = 1, num = 2: số lượng mẫu để tạo\n",
        "y0 = w_0 + w_1*x0\n",
        "#vẽ\n",
        "plt.plot(X.T, y.T, 'b.')     # data \n",
        "plt.plot(x0, y0, 'y', linewidth = 2)   # the fitting line\n",
        "plt.axis([0, 1, 0, 10])\n",
        "plt.show()\n",
        "# đường thẳng màu vàng y ~ y = 4 + 2.998x"
      ],
      "execution_count": null,
      "outputs": [
        {
          "output_type": "stream",
          "name": "stdout",
          "text": [
            "Solution found by formula: w =  [[3.9956602  3.00564884]]\n"
          ]
        },
        {
          "output_type": "display_data",
          "data": {
            "image/png": "[encoded data removed]",
            "text/plain": [
              "<Figure size 432x288 with 1 Axes>"
            ]
          },
          "metadata": {
            "needs_background": "light"
          }
        }
      ]
    },
    {
      "cell_type": "code",
      "metadata": {
        "colab": {
          "base_uri": "https://localhost:8080/"
        },
        "id": "g_G1ibik5qQP",
        "outputId": "c962b95e-167f-442e-a4c7-997f8d28251c"
      },
      "source": [
        "#Viết đạo hàm và hàm mất mát\n",
        "def grad(w):\n",
        "    N = Xbar.shape[0]\n",
        "    return 1/N * Xbar.T.dot(Xbar.dot(w) - y)\n",
        "\n",
        "def cost(w):\n",
        "    N = Xbar.shape[0]\n",
        "    return .5/N*np.linalg.norm(y - Xbar.dot(w), 2)**2;\n",
        "#kiểm tra đạo hàm và có thể áp dụng với một hàm số (của một vector) bất kỳ với cost và grad đã tính ở phía trên\n",
        "def numerical_grad(w, cost):\n",
        "    eps = 1e-4\n",
        "    g = np.zeros_like(w) #Trả về một mảng các số không có cùng hình dạng và kiểu như một mảng đã cho.\n",
        "    for i in range(len(w)):\n",
        "        w_p = w.copy()\n",
        "        w_n = w.copy()\n",
        "        w_p[i] += eps \n",
        "        w_n[i] -= eps\n",
        "        g[i] = (cost(w_p) - cost(w_n))/(2*eps)\n",
        "    return g \n",
        "\n",
        "def check_grad(w, cost, grad):\n",
        "    w = np.random.rand(w.shape[0], w.shape[1])\n",
        "    grad1 = grad(w)\n",
        "    grad2 = numerical_grad(w, cost)\n",
        "    return True if np.linalg.norm(grad1 - grad2) < 1e-6 else False \n",
        "\n",
        "print( 'Checking gradient...', check_grad(np.random.rand(2, 1), cost, grad))\n"
      ],
      "execution_count": null,
      "outputs": [
        {
          "output_type": "stream",
          "name": "stdout",
          "text": [
            "Checking gradient... True\n"
          ]
        }
      ]
    },
    {
      "cell_type": "code",
      "metadata": {
        "colab": {
          "base_uri": "https://localhost:8080/"
        },
        "id": "i6sTsb0a62VW",
        "outputId": "e88884f6-43b9-464a-8f50-f7285e22a676"
      },
      "source": [
        "#tìm điểm dừng\n",
        "def myGD(w_init, grad, eta):\n",
        "    w = [w_init]\n",
        "    for it in range(100):\n",
        "        w_new = w[-1] - eta*grad(w[-1])\n",
        "        if np.linalg.norm(grad(w_new))/len(w_new) < 1e-3:\n",
        "            break \n",
        "        w.append(w_new)\n",
        "    return (w, it) \n",
        "\n",
        "w_init = np.array([[2], [1]])\n",
        "(w1, it1) = myGD(w_init, grad, 1)\n",
        "print('Solution found by GD: w = ', w1[-1].T, ',\\nafter %d iterations.' %(it1+1))"
      ],
      "execution_count": null,
      "outputs": [
        {
          "output_type": "stream",
          "name": "stdout",
          "text": [
            "Solution found by GD: w =  [[4.01081355 2.97764382]] ,\n",
            "after 49 iterations.\n"
          ]
        }
      ]
    }
  ]
}