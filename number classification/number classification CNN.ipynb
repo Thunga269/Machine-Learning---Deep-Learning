{
  "nbformat": 4,
  "nbformat_minor": 0,
  "metadata": {
    "colab": {
      "provenance": [],
      "collapsed_sections": []
    },
    "kernelspec": {
      "name": "python3",
      "display_name": "Python 3"
    },
    "language_info": {
      "name": "python"
    }
  },
  "cells": [
    {
      "cell_type": "code",
      "source": [
        "import cv2 #đọc ảnh\n",
        "import tensorflow as tf\n",
        "from keras.utils import np_utils\n",
        "mnist = tf.keras.datasets.mnist\n",
        "\n",
        "(x_train, y_train), (x_test, y_test) = mnist.load_data()\n",
        "\n",
        "\n",
        "x_train = x_train.reshape(x_train.shape[0], 28, 28, 1)\n",
        "#x_train.shape[0] = 60000\n",
        "\n",
        "x_train = x_train.astype('float32')\n",
        "#ảnh sáng từ 0 -> 255 -> cần chuyển hóa về 0 -> 1\n",
        "x_train /= 255\n",
        "y_train = np_utils.to_categorical(y_train, 10)\n",
        "# đưa y_train về dạng ma trận cột gồm 10 nhãn\n",
        "#mạng CNN\n",
        "model = tf.keras.models.Sequential([\n",
        "    tf.keras.layers.Conv2D(filters=32, kernel_size=(3, 3), input_shape=(28, 28, 1), activation=tf.nn.relu),\n",
        "    #Filter: số bộ lọc, kernel_size: ma trận trượt, input_shape: ảnh 28x28x1 (1 là số chiều)\n",
        "    tf.keras.layers.MaxPooling2D(pool_size=(2, 2)), #lớp Pooling để giảm kích thước đầu ra của lớp conv\n",
        "\n",
        "    tf.keras.layers.Conv2D(filters=32, kernel_size=(3, 3), activation=tf.nn.relu),\n",
        "    tf.keras.layers.MaxPooling2D(pool_size=(2, 2)),\n",
        "\n",
        "    tf.keras.layers.Flatten(), #làm phẳng ma trận\n",
        "    # 2 layers fully connected\n",
        "    tf.keras.layers.Dense(300, activation=tf.nn.relu), #fully connected\n",
        "    # đầu ra là 10 số -> output là 10 nerol; hàm softmax ánh xạ theo xác suất (0,1)\n",
        "    tf.keras.layers.Dense(10, activation=tf.nn.softmax),\n",
        "])"
      ],
      "metadata": {
        "id": "r1oHETrKPf1M"
      },
      "execution_count": null,
      "outputs": []
    },
    {
      "cell_type": "code",
      "source": [
        "model.compile(optimizer='sgd', loss='mean_squared_error',metrics=['accuracy'])\n",
        "#optimizer: update lại weight, loss: trung bình bình phương lỗi, accuracy: độ chính xác\n",
        "#model.summary()\n",
        "\n",
        "model.fit(x_train, y_train, epochs=5)\n",
        "#model.save('model.h5')\n",
        "\n"
      ],
      "metadata": {
        "colab": {
          "base_uri": "https://localhost:8080/"
        },
        "id": "5xpdSk_4PjJi",
        "outputId": "8aa0b1ef-6edb-45b3-a8d5-a650554f5ef4"
      },
      "execution_count": null,
      "outputs": [
        {
          "output_type": "stream",
          "name": "stdout",
          "text": [
            "Epoch 1/5\n",
            "1875/1875 [==============================] - 50s 27ms/step - loss: 0.0895 - accuracy: 0.1460\n",
            "Epoch 2/5\n",
            "1875/1875 [==============================] - 49s 26ms/step - loss: 0.0880 - accuracy: 0.4078\n",
            "Epoch 3/5\n",
            "1875/1875 [==============================] - 47s 25ms/step - loss: 0.0836 - accuracy: 0.5230\n",
            "Epoch 4/5\n",
            "1875/1875 [==============================] - 48s 26ms/step - loss: 0.0595 - accuracy: 0.6531\n",
            "Epoch 5/5\n",
            "1875/1875 [==============================] - 49s 26ms/step - loss: 0.0296 - accuracy: 0.8329\n"
          ]
        },
        {
          "output_type": "execute_result",
          "data": {
            "text/plain": [
              "<keras.callbacks.History at 0x7fea4ff6e4d0>"
            ]
          },
          "metadata": {},
          "execution_count": 4
        }
      ]
    },
    {
      "cell_type": "code",
      "source": [
        "img_test = cv2.imread('anh4.png', 0) #ảnh của số 7\n",
        "# cv2.imshow('anh test', img_test)\n",
        "# cv2.waitKey(0)\n",
        "img_test = img_test.reshape(1, 28, 28, 1)\n",
        "print(model.predict(img_test))"
      ],
      "metadata": {
        "colab": {
          "base_uri": "https://localhost:8080/"
        },
        "id": "TAZlgo4BPr_2",
        "outputId": "0335b0e8-0042-49fd-e044-545b1988a244"
      },
      "execution_count": null,
      "outputs": [
        {
          "output_type": "stream",
          "name": "stdout",
          "text": [
            "[[0. 0. 0. 0. 0. 0. 0. 1. 0. 0.]]\n"
          ]
        }
      ]
    }
  ]
}