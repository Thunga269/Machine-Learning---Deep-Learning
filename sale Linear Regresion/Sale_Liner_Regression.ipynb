{
  "nbformat": 4,
  "nbformat_minor": 0,
  "metadata": {
    "colab": {
      "provenance": [],
      "collapsed_sections": []
    },
    "kernelspec": {
      "name": "python3",
      "display_name": "Python 3"
    },
    "language_info": {
      "name": "python"
    }
  },
  "cells": [
    {
      "cell_type": "code",
      "metadata": {
        "colab": {
          "base_uri": "https://localhost:8080/"
        },
        "id": "HV1LWLZiQHdb",
        "outputId": "f685a385-4e3c-4333-e33a-a85d297cb2bb"
      },
      "source": [
        "import numpy as np\n",
        "import pandas as pd\n",
        "import matplotlib.pyplot as plt\n",
        "\n",
        "dataframe = pd.read_csv('/advertising.csv')\n",
        "print(dataframe)\n"
      ],
      "execution_count": null,
      "outputs": [
        {
          "output_type": "stream",
          "name": "stdout",
          "text": [
            "     Unnamed: 0     TV  Radio  Newspaper  Sales\n",
            "0             1  230.1   37.8       69.2   22.1\n",
            "1             2   44.5   39.3       45.1   10.4\n",
            "2             3   17.2   45.9       69.3    9.3\n",
            "3             4  151.5   41.3       58.5   18.5\n",
            "4             5  180.8   10.8       58.4   12.9\n",
            "..          ...    ...    ...        ...    ...\n",
            "195         196   38.2    3.7       13.8    7.6\n",
            "196         197   94.2    4.9        8.1    9.7\n",
            "197         198  177.0    9.3        6.4   12.8\n",
            "198         199  283.6   42.0       66.2   25.5\n",
            "199         200  232.1    8.6        8.7   13.4\n",
            "\n",
            "[200 rows x 5 columns]\n"
          ]
        }
      ]
    },
    {
      "cell_type": "code",
      "metadata": {
        "colab": {
          "base_uri": "https://localhost:8080/",
          "height": 785
        },
        "id": "ymCAAJglXhnQ",
        "outputId": "e46d994c-f0c2-4995-a433-449d1c4ff59c"
      },
      "source": [
        "X = dataframe.values[:, 2]\n",
        "y = dataframe.values[:, 4]\n",
        "print(X)\n",
        "print(y)\n",
        "plt.scatter(X, y, marker='o')\n",
        "plt.show()"
      ],
      "execution_count": null,
      "outputs": [
        {
          "output_type": "stream",
          "name": "stdout",
          "text": [
            "[37.8 39.3 45.9 41.3 10.8 48.9 32.8 19.6  2.1  2.6  5.8 24.  35.1  7.6\n",
            " 32.9 47.7 36.6 39.6 20.5 23.9 27.7  5.1 15.9 16.9 12.6  3.5 29.3 16.7\n",
            " 27.1 16.  28.3 17.4  1.5 20.   1.4  4.1 43.8 49.4 26.7 37.7 22.3 33.4\n",
            " 27.7  8.4 25.7 22.5  9.9 41.5 15.8 11.7  3.1  9.6 41.7 46.2 28.8 49.4\n",
            " 28.1 19.2 49.6 29.5  2.  42.7 15.5 29.6 42.8  9.3 24.6 14.5 27.5 43.9\n",
            " 30.6 14.3 33.   5.7 24.6 43.7  1.6 28.5 29.9  7.7 26.7  4.1 20.3 44.5\n",
            " 43.  18.4 27.5 40.6 25.5 47.8  4.9  1.5 33.5 36.5 14.  31.6  3.5 21.\n",
            " 42.3 41.7  4.3 36.3 10.1 17.2 34.3 46.4 11.   0.3  0.4 26.9  8.2 38.\n",
            " 15.4 20.6 46.8 35.  14.3  0.8 36.9 16.  26.8 21.7  2.4 34.6 32.3 11.8\n",
            " 38.9  0.  49.  12.  39.6  2.9 27.2 33.5 38.6 47.  39.  28.9 25.9 43.9\n",
            " 17.  35.4 33.2  5.7 14.8  1.9  7.3 49.  40.3 25.8 13.9  8.4 23.3 39.7\n",
            " 21.1 11.6 43.5  1.3 36.9 18.4 18.1 35.8 18.1 36.8 14.7  3.4 37.6  5.2\n",
            " 23.6 10.6 11.6 20.9 20.1  7.1  3.4 48.9 30.2  7.8  2.3 10.   2.6  5.4\n",
            "  5.7 43.  21.3 45.1  2.1 28.7 13.9 12.1 41.1 10.8  4.1 42.  35.6  3.7\n",
            "  4.9  9.3 42.   8.6]\n",
            "[22.1 10.4  9.3 18.5 12.9  7.2 11.8 13.2  4.8 10.6  8.6 17.4  9.2  9.7\n",
            " 19.  22.4 12.5 24.4 11.3 14.6 18.  12.5  5.6 15.5  9.7 12.  15.  15.9\n",
            " 18.9 10.5 21.4 11.9  9.6 17.4  9.5 12.8 25.4 14.7 10.1 21.5 16.6 17.1\n",
            " 20.7 12.9  8.5 14.9 10.6 23.2 14.8  9.7 11.4 10.7 22.6 21.2 20.2 23.7\n",
            "  5.5 13.2 23.8 18.4  8.1 24.2 15.7 14.  18.   9.3  9.5 13.4 18.9 22.3\n",
            " 18.3 12.4  8.8 11.  17.   8.7  6.9 14.2  5.3 11.  11.8 12.3 11.3 13.6\n",
            " 21.7 15.2 12.  16.  12.9 16.7 11.2  7.3 19.4 22.2 11.5 16.9 11.7 15.5\n",
            " 25.4 17.2 11.7 23.8 14.8 14.7 20.7 19.2  7.2  8.7  5.3 19.8 13.4 21.8\n",
            " 14.1 15.9 14.6 12.6 12.2  9.4 15.9  6.6 15.5  7.  11.6 15.2 19.7 10.6\n",
            "  6.6  8.8 24.7  9.7  1.6 12.7  5.7 19.6 10.8 11.6  9.5 20.8  9.6 20.7\n",
            " 10.9 19.2 20.1 10.4 11.4 10.3 13.2 25.4 10.9 10.1 16.1 11.6 16.6 19.\n",
            " 15.6  3.2 15.3 10.1  7.3 12.9 14.4 13.3 14.9 18.  11.9 11.9  8.  12.2\n",
            " 17.1 15.   8.4 14.5  7.6 11.7 11.5 27.  20.2 11.7 11.8 12.6 10.5 12.2\n",
            "  8.7 26.2 17.6 22.6 10.3 17.3 15.9  6.7 10.8  9.9  5.9 19.6 17.3  7.6\n",
            "  9.7 12.8 25.5 13.4]\n"
          ]
        },
        {
          "output_type": "display_data",
          "data": {
            "image/png": "[encoded data removed]",
            "text/plain": [
              "<Figure size 432x288 with 1 Axes>"
            ]
          },
          "metadata": {
            "needs_background": "light"
          }
        }
      ]
    },
    {
      "cell_type": "code",
      "metadata": {
        "id": "l9ibE2itZ-Jf"
      },
      "source": [
        "#hàm dự đoán y dự đoán = weight * x + bias ( với y = giá sales, x = radio)\n",
        "def predict(new_radio, weight, bias):\n",
        "  return weight*new_radio + bias\n",
        "\n",
        "#tính hàm chi phí theo công thức MSE = 1/N.tổng(y thực tế - (weight.x + bias))^2\n",
        "def cost_funtion(X, y, weight, bias):\n",
        "  n = len(X)\n",
        "  sum_error = 0.0\n",
        "  for i in range(n):\n",
        "    sum_error += (y[i] - (weight*X[i] + bias)) ** 2\n",
        "  return sum_error / n\n",
        "\n",
        "#tính toán độ dốc của hàm chi phí\n",
        "# f'(m, b) = [đạo hàm của f theo m =[1/N. tổng(-2x(y thực tế - (weight.x + bias))\n",
        "#              đạo hàm của f theo b]  1/N. tổng(-2(y thực tế - (weight.x + bias))]                                          ]\n",
        "#tìm wieght, bias mới\n",
        "def update_weight(X, y, weight, bias, learning_rate ):\n",
        "  n = len(X)\n",
        "  weight_temp = 0.0\n",
        "  bias_temp = 0.0\n",
        "  for i in range(n):\n",
        "    weight_temp += -2*X[i]*(y[i] - (weight * X[i] + bias))\n",
        "    bias_temp += -2*(y[i] - (weight * X[i] + bias))\n",
        "  weight -= (weight_temp / n) * learning_rate\n",
        "  bias -= (bias_temp / n) * learning_rate\n",
        "  return weight, bias\n",
        "\n",
        "#training\n",
        "def train(X, y, weight, bias, learning_rate, iter):\n",
        "  cost_history = []\n",
        "  for i in range(iter):\n",
        "    weight, bias = update_weight(X, y, weight, bias, learning_rate)\n",
        "    cost = cost_funtion(X, y, weight, bias)\n",
        "    cost_history.append(cost)\n",
        "  return weight, bias, cost_history\n"
      ],
      "execution_count": null,
      "outputs": []
    },
    {
      "cell_type": "code",
      "metadata": {
        "colab": {
          "base_uri": "https://localhost:8080/"
        },
        "id": "I657qJNRjwnq",
        "outputId": "8a125997-8de3-48ed-ffea-ddedf1bca81d"
      },
      "source": [
        "weight, bias, cost = train (X, y, 0.03, 0.0014, 0.001, 30)\n",
        "print(weight)\n",
        "print(bias)\n",
        "print(cost)"
      ],
      "execution_count": null,
      "outputs": [
        {
          "output_type": "stream",
          "name": "stdout",
          "text": [
            "0.4820883403804279\n",
            "0.1747495627245987\n",
            "[86.42444871530395, 54.81620707415582, 46.16606399414465, 43.7837062962731, 43.112532699857724, 42.90855123523333, 42.83214120342931, 42.79058316020948, 42.758563860080905, 42.72917253849223, 42.70052246892831, 42.67209853116381, 42.64376006550058, 42.61546864326576, 42.587213745780765, 42.55899247407067, 42.53080400943763, 42.50264810114907, 42.474524653563066, 42.44643361341033, 42.41837493902088, 42.3903485919226, 42.362354534547855, 42.33439272960688, 42.306463139917156, 42.278565728356305, 42.250700457849696, 42.222867291366526, 42.195066191919175, 42.167297122562616]\n"
          ]
        }
      ]
    },
    {
      "cell_type": "code",
      "metadata": {
        "colab": {
          "base_uri": "https://localhost:8080/",
          "height": 283
        },
        "id": "v9B58TPfvLYw",
        "outputId": "75785c32-87e7-417d-c773-ab01636c1a23"
      },
      "source": [
        "#example\n",
        "print(predict(19, weight, bias))\n",
        "solanlap= [i for i in range(30)]\n",
        "plt.plot(solanlap, cost)\n",
        "plt.show()"
      ],
      "execution_count": null,
      "outputs": [
        {
          "output_type": "stream",
          "name": "stdout",
          "text": [
            "9.334428029952727\n"
          ]
        },
        {
          "output_type": "display_data",
          "data": {
            "image/png": "[encoded data removed]",
            "text/plain": [
              "<Figure size 432x288 with 1 Axes>"
            ]
          },
          "metadata": {
            "needs_background": "light"
          }
        }
      ]
    }
  ]
}